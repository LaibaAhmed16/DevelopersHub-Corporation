{
  "metadata": {
    "kernelspec": {
      "display_name": "Python 3",
      "name": "python3"
    },
    "language_info": {
      "name": "python",
      "version": "3.10.12",
      "mimetype": "text/x-python",
      "codemirror_mode": {
        "name": "ipython",
        "version": 3
      },
      "pygments_lexer": "ipython3",
      "nbconvert_exporter": "python",
      "file_extension": ".py"
    },
    "kaggle": {
      "accelerator": "gpu",
      "dataSources": [
        {
          "sourceId": 6322,
          "databundleVersionId": 868312,
          "sourceType": "competition"
        },
        {
          "sourceId": 938046,
          "sourceType": "datasetVersion",
          "datasetId": 503255
        }
      ],
      "dockerImageVersionId": 30528,
      "isInternetEnabled": true,
      "language": "python",
      "sourceType": "notebook",
      "isGpuEnabled": true
    },
    "colab": {
      "name": "Planet(Amazon Satellite Image)",
      "provenance": [],
      "gpuType": "T4"
    },
    "accelerator": "GPU"
  },
  "nbformat_minor": 0,
  "nbformat": 4,
  "cells": [
    {
      "source": [
        "# IMPORTANT: RUN THIS CELL IN ORDER TO IMPORT YOUR KAGGLE DATA SOURCES,\n",
        "# THEN FEEL FREE TO DELETE THIS CELL.\n",
        "# NOTE: THIS NOTEBOOK ENVIRONMENT DIFFERS FROM KAGGLE'S PYTHON\n",
        "# ENVIRONMENT SO THERE MAY BE MISSING LIBRARIES USED BY YOUR\n",
        "# NOTEBOOK.\n",
        "import kagglehub\n",
        "nikitarom_planets_dataset_path = kagglehub.dataset_download('nikitarom/planets-dataset')\n",
        "\n",
        "print('Data source import complete.')\n"
      ],
      "metadata": {
        "id": "f65ZZBgr2nHu",
        "outputId": "edaea930-0700-400b-b79e-efa89db31af9",
        "colab": {
          "base_uri": "https://localhost:8080/"
        }
      },
      "cell_type": "code",
      "outputs": [
        {
          "output_type": "stream",
          "name": "stdout",
          "text": [
            "Downloading from https://www.kaggle.com/api/v1/datasets/download/nikitarom/planets-dataset?dataset_version_number=3...\n"
          ]
        },
        {
          "output_type": "stream",
          "name": "stderr",
          "text": [
            "100%|██████████| 1.50G/1.50G [00:22<00:00, 70.1MB/s]"
          ]
        },
        {
          "output_type": "stream",
          "name": "stdout",
          "text": [
            "Extracting files...\n"
          ]
        },
        {
          "output_type": "stream",
          "name": "stderr",
          "text": [
            "\n"
          ]
        },
        {
          "output_type": "stream",
          "name": "stdout",
          "text": [
            "Data source import complete.\n"
          ]
        }
      ],
      "execution_count": 1
    },
    {
      "cell_type": "markdown",
      "source": [
        "# Setup Env"
      ],
      "metadata": {
        "id": "v1bA6GNU2nHx"
      }
    },
    {
      "cell_type": "code",
      "source": [
        "!pip install fastai --upgrade -q\n",
        "from fastai.vision.all import *\n",
        "from scipy.stats import bernoulli\n",
        "import warnings\n",
        "warnings.filterwarnings(\"ignore\")\n",
        "\n",
        "!pip install wwf -q\n",
        "!pip install timm -q\n",
        "from wwf.vision.timm import *\n",
        "\n",
        "!pip install efficientnet_pytorch -q\n"
      ],
      "metadata": {
        "_uuid": "8f2839f25d086af736a60e9eeb907d3b93b6e0e5",
        "_cell_guid": "b1076dfc-b9ad-4769-8c92-a6c4dae69d19",
        "execution": {
          "iopub.status.busy": "2024-09-27T10:22:30.903741Z",
          "iopub.execute_input": "2024-09-27T10:22:30.904552Z",
          "iopub.status.idle": "2024-09-27T10:23:16.881315Z",
          "shell.execute_reply.started": "2024-09-27T10:22:30.904509Z",
          "shell.execute_reply": "2024-09-27T10:23:16.879942Z"
        },
        "trusted": true,
        "id": "aPJge_SN2nHz",
        "outputId": "acdebcda-c488-4d82-8502-88f29718d153",
        "colab": {
          "base_uri": "https://localhost:8080/"
        }
      },
      "execution_count": 2,
      "outputs": [
        {
          "output_type": "stream",
          "name": "stdout",
          "text": [
            "\u001b[?25l   \u001b[90m━━━━━━━━━━━━━━━━━━━━━━━━━━━━━━━━━━━━━━━━\u001b[0m \u001b[32m0.0/235.3 kB\u001b[0m \u001b[31m?\u001b[0m eta \u001b[36m-:--:--\u001b[0m\r\u001b[2K   \u001b[90m━━━━━━━━━━━━━━━━━━━━━━━━━━━━━━━━━━━━━━━━\u001b[0m \u001b[32m235.3/235.3 kB\u001b[0m \u001b[31m9.5 MB/s\u001b[0m eta \u001b[36m0:00:00\u001b[0m\n",
            "\u001b[2K   \u001b[90m━━━━━━━━━━━━━━━━━━━━━━━━━━━━━━━━━━━━━━━━\u001b[0m \u001b[32m78.2/78.2 kB\u001b[0m \u001b[31m4.4 MB/s\u001b[0m eta \u001b[36m0:00:00\u001b[0m\n",
            "\u001b[2K   \u001b[90m━━━━━━━━━━━━━━━━━━━━━━━━━━━━━━━━━━━━━━━━\u001b[0m \u001b[32m363.4/363.4 MB\u001b[0m \u001b[31m4.4 MB/s\u001b[0m eta \u001b[36m0:00:00\u001b[0m\n",
            "\u001b[2K   \u001b[90m━━━━━━━━━━━━━━━━━━━━━━━━━━━━━━━━━━━━━━━━\u001b[0m \u001b[32m13.8/13.8 MB\u001b[0m \u001b[31m100.5 MB/s\u001b[0m eta \u001b[36m0:00:00\u001b[0m\n",
            "\u001b[2K   \u001b[90m━━━━━━━━━━━━━━━━━━━━━━━━━━━━━━━━━━━━━━━━\u001b[0m \u001b[32m24.6/24.6 MB\u001b[0m \u001b[31m72.5 MB/s\u001b[0m eta \u001b[36m0:00:00\u001b[0m\n",
            "\u001b[2K   \u001b[90m━━━━━━━━━━━━━━━━━━━━━━━━━━━━━━━━━━━━━━━━\u001b[0m \u001b[32m883.7/883.7 kB\u001b[0m \u001b[31m46.7 MB/s\u001b[0m eta \u001b[36m0:00:00\u001b[0m\n",
            "\u001b[2K   \u001b[90m━━━━━━━━━━━━━━━━━━━━━━━━━━━━━━━━━━━━━━━━\u001b[0m \u001b[32m664.8/664.8 MB\u001b[0m \u001b[31m3.0 MB/s\u001b[0m eta \u001b[36m0:00:00\u001b[0m\n",
            "\u001b[2K   \u001b[90m━━━━━━━━━━━━━━━━━━━━━━━━━━━━━━━━━━━━━━━━\u001b[0m \u001b[32m211.5/211.5 MB\u001b[0m \u001b[31m7.7 MB/s\u001b[0m eta \u001b[36m0:00:00\u001b[0m\n",
            "\u001b[2K   \u001b[90m━━━━━━━━━━━━━━━━━━━━━━━━━━━━━━━━━━━━━━━━\u001b[0m \u001b[32m56.3/56.3 MB\u001b[0m \u001b[31m12.6 MB/s\u001b[0m eta \u001b[36m0:00:00\u001b[0m\n",
            "\u001b[2K   \u001b[90m━━━━━━━━━━━━━━━━━━━━━━━━━━━━━━━━━━━━━━━━\u001b[0m \u001b[32m127.9/127.9 MB\u001b[0m \u001b[31m7.9 MB/s\u001b[0m eta \u001b[36m0:00:00\u001b[0m\n",
            "\u001b[2K   \u001b[90m━━━━━━━━━━━━━━━━━━━━━━━━━━━━━━━━━━━━━━━━\u001b[0m \u001b[32m207.5/207.5 MB\u001b[0m \u001b[31m6.1 MB/s\u001b[0m eta \u001b[36m0:00:00\u001b[0m\n",
            "\u001b[2K   \u001b[90m━━━━━━━━━━━━━━━━━━━━━━━━━━━━━━━━━━━━━━━━\u001b[0m \u001b[32m21.1/21.1 MB\u001b[0m \u001b[31m71.0 MB/s\u001b[0m eta \u001b[36m0:00:00\u001b[0m\n",
            "\u001b[2K   \u001b[90m━━━━━━━━━━━━━━━━━━━━━━━━━━━━━━━━━━━━━━━━\u001b[0m \u001b[32m42.6/42.6 kB\u001b[0m \u001b[31m3.1 MB/s\u001b[0m eta \u001b[36m0:00:00\u001b[0m\n",
            "\u001b[2K   \u001b[90m━━━━━━━━━━━━━━━━━━━━━━━━━━━━━━━━━━━━━━━━\u001b[0m \u001b[32m1.2/1.2 MB\u001b[0m \u001b[31m59.4 MB/s\u001b[0m eta \u001b[36m0:00:00\u001b[0m\n",
            "\u001b[?25h  Preparing metadata (setup.py) ... \u001b[?25l\u001b[?25hdone\n",
            "  Building wheel for efficientnet_pytorch (setup.py) ... \u001b[?25l\u001b[?25hdone\n"
          ]
        }
      ]
    },
    {
      "cell_type": "markdown",
      "source": [
        "# Import data"
      ],
      "metadata": {
        "id": "zU56ZdPN2nH0"
      }
    },
    {
      "cell_type": "code",
      "source": [
        "path = Path('../input/planets-dataset/planet/planet')"
      ],
      "metadata": {
        "_uuid": "d629ff2d2480ee46fbb7e2d37f6b5fab8052498a",
        "_cell_guid": "79c7e3d0-c299-4dcb-8224-4455121ee9b0",
        "execution": {
          "iopub.status.busy": "2024-09-27T09:15:04.41332Z",
          "iopub.execute_input": "2024-09-27T09:15:04.413627Z",
          "iopub.status.idle": "2024-09-27T09:15:04.418313Z",
          "shell.execute_reply.started": "2024-09-27T09:15:04.4136Z",
          "shell.execute_reply": "2024-09-27T09:15:04.417395Z"
        },
        "trusted": true,
        "id": "svVH363G2nH1",
        "outputId": "54385bbe-0d9c-4c1b-a928-759126400771",
        "colab": {
          "base_uri": "https://localhost:8080/",
          "height": 146
        }
      },
      "execution_count": 1,
      "outputs": [
        {
          "output_type": "error",
          "ename": "NameError",
          "evalue": "name 'Path' is not defined",
          "traceback": [
            "\u001b[0;31m---------------------------------------------------------------------------\u001b[0m",
            "\u001b[0;31mNameError\u001b[0m                                 Traceback (most recent call last)",
            "\u001b[0;32m<ipython-input-1-02a0d567f289>\u001b[0m in \u001b[0;36m<cell line: 0>\u001b[0;34m()\u001b[0m\n\u001b[0;32m----> 1\u001b[0;31m \u001b[0mpath\u001b[0m \u001b[0;34m=\u001b[0m \u001b[0mPath\u001b[0m\u001b[0;34m(\u001b[0m\u001b[0;34m'../input/planets-dataset/planet/planet'\u001b[0m\u001b[0;34m)\u001b[0m\u001b[0;34m\u001b[0m\u001b[0;34m\u001b[0m\u001b[0m\n\u001b[0m",
            "\u001b[0;31mNameError\u001b[0m: name 'Path' is not defined"
          ]
        }
      ]
    },
    {
      "cell_type": "code",
      "source": [
        "train_df = pd.read_csv(path/'train_classes.csv')\n",
        "train_df"
      ],
      "metadata": {
        "execution": {
          "iopub.status.busy": "2024-09-27T09:15:04.419434Z",
          "iopub.execute_input": "2024-09-27T09:15:04.419775Z",
          "iopub.status.idle": "2024-09-27T09:15:04.504902Z",
          "shell.execute_reply.started": "2024-09-27T09:15:04.419743Z",
          "shell.execute_reply": "2024-09-27T09:15:04.504029Z"
        },
        "trusted": true,
        "id": "hS1la7qu2nH1"
      },
      "execution_count": null,
      "outputs": []
    },
    {
      "cell_type": "code",
      "source": [
        "def get_x(r):\n",
        "    return path/'train-jpg'/(r['image_name']+'.jpg')\n",
        "\n",
        "def get_y(r):\n",
        "    return r['tags'].split()\n",
        "\n",
        "def get_data(size=224,bs=64,data_df=train_df):\n",
        "    dblock = DataBlock(blocks=(ImageBlock, MultiCategoryBlock),\n",
        "                       splitter=RandomSplitter(seed=42),\n",
        "                       get_x=get_x,\n",
        "                       get_y=get_y,\n",
        "                       item_tfms = Resize(size),\n",
        "                       batch_tfms = [*aug_transforms(flip_vert=True,max_warp=0),\n",
        "                                     Normalize.from_stats(*imagenet_stats)]\n",
        "                      )\n",
        "    return dblock.dataloaders(data_df,bs=bs)"
      ],
      "metadata": {
        "execution": {
          "iopub.status.busy": "2024-09-27T09:15:04.506898Z",
          "iopub.execute_input": "2024-09-27T09:15:04.507165Z",
          "iopub.status.idle": "2024-09-27T09:15:04.513454Z",
          "shell.execute_reply.started": "2024-09-27T09:15:04.507142Z",
          "shell.execute_reply": "2024-09-27T09:15:04.51264Z"
        },
        "trusted": true,
        "id": "EUSFVBYR2nH2"
      },
      "execution_count": null,
      "outputs": []
    },
    {
      "cell_type": "code",
      "source": [
        "dls = get_data(300,40)"
      ],
      "metadata": {
        "execution": {
          "iopub.status.busy": "2024-09-27T09:15:04.514685Z",
          "iopub.execute_input": "2024-09-27T09:15:04.515018Z",
          "iopub.status.idle": "2024-09-27T09:15:08.950364Z",
          "shell.execute_reply.started": "2024-09-27T09:15:04.514989Z",
          "shell.execute_reply": "2024-09-27T09:15:08.949372Z"
        },
        "trusted": true,
        "id": "H8VEUqrM2nH2"
      },
      "execution_count": null,
      "outputs": []
    },
    {
      "cell_type": "code",
      "source": [
        "dls.show_batch(nrows=1, ncols=3)"
      ],
      "metadata": {
        "execution": {
          "iopub.status.busy": "2024-09-27T09:15:08.951635Z",
          "iopub.execute_input": "2024-09-27T09:15:08.952017Z",
          "iopub.status.idle": "2024-09-27T09:15:10.029844Z",
          "shell.execute_reply.started": "2024-09-27T09:15:08.951986Z",
          "shell.execute_reply": "2024-09-27T09:15:10.028763Z"
        },
        "trusted": true,
        "id": "A79ez4hS2nH2"
      },
      "execution_count": null,
      "outputs": []
    },
    {
      "cell_type": "markdown",
      "source": [
        "# EDA"
      ],
      "metadata": {
        "id": "HRgHcaOZ2nH2"
      }
    },
    {
      "cell_type": "code",
      "source": [
        "import plotly.offline as py\n",
        "py.init_notebook_mode(connected=True)\n",
        "import plotly.graph_objs as go\n",
        "import plotly.tools as tls"
      ],
      "metadata": {
        "execution": {
          "iopub.status.busy": "2024-09-27T09:15:10.031251Z",
          "iopub.execute_input": "2024-09-27T09:15:10.031551Z",
          "iopub.status.idle": "2024-09-27T09:15:10.14543Z",
          "shell.execute_reply.started": "2024-09-27T09:15:10.031526Z",
          "shell.execute_reply": "2024-09-27T09:15:10.144544Z"
        },
        "trusted": true,
        "id": "OwlOUHn12nH3"
      },
      "execution_count": null,
      "outputs": []
    },
    {
      "cell_type": "code",
      "source": [
        "labels = train_df['tags'].apply(lambda x: x.split(' '))\n",
        "from collections import Counter, defaultdict\n",
        "counts = defaultdict(int)\n",
        "for l in labels:\n",
        "    for l2 in l:\n",
        "        counts[l2] += 1\n",
        "\n",
        "data=[go.Bar(x=list(counts.keys()), y=list(counts.values()))]\n",
        "layout=dict(height=800, width=800, title='Distribution of training labels')\n",
        "fig=dict(data=data, layout=layout)\n",
        "py.iplot(data, filename='train-label-dist')"
      ],
      "metadata": {
        "execution": {
          "iopub.status.busy": "2024-09-27T09:15:10.146703Z",
          "iopub.execute_input": "2024-09-27T09:15:10.147165Z",
          "iopub.status.idle": "2024-09-27T09:15:11.664646Z",
          "shell.execute_reply.started": "2024-09-27T09:15:10.147127Z",
          "shell.execute_reply": "2024-09-27T09:15:11.663762Z"
        },
        "trusted": true,
        "id": "U-xcNubd2nH3"
      },
      "execution_count": null,
      "outputs": []
    },
    {
      "cell_type": "code",
      "source": [
        "# Co-occurence Matrix\n",
        "com = np.zeros([len(counts)]*2)\n",
        "for i, l in enumerate(list(counts.keys())):\n",
        "    for i2, l2 in enumerate(list(counts.keys())):\n",
        "        c = 0\n",
        "        cy = 0\n",
        "        for row in labels.values:\n",
        "            if l in row:\n",
        "                c += 1\n",
        "                if l2 in row: cy += 1\n",
        "        com[i, i2] = cy / c\n",
        "\n",
        "data=[go.Heatmap(z=com, x=list(counts.keys()), y=list(counts.keys()))]\n",
        "layout=go.Layout(height=800, width=800, title='Co-occurence matrix of training labels')\n",
        "fig=dict(data=data, layout=layout)\n",
        "py.iplot(data, filename='train-com')"
      ],
      "metadata": {
        "execution": {
          "iopub.status.busy": "2024-09-27T09:15:11.665899Z",
          "iopub.execute_input": "2024-09-27T09:15:11.66618Z",
          "iopub.status.idle": "2024-09-27T09:15:14.043681Z",
          "shell.execute_reply.started": "2024-09-27T09:15:11.666156Z",
          "shell.execute_reply": "2024-09-27T09:15:14.042851Z"
        },
        "trusted": true,
        "id": "9sicQXMg2nH3"
      },
      "execution_count": null,
      "outputs": []
    },
    {
      "cell_type": "code",
      "source": [
        "all_tags = [item for sublist in list(train_df['tags'].apply(lambda row: row.split(\" \")).values) for item in sublist]\n",
        "print('total of {} non-unique tags in all training images'.format(len(all_tags)))\n",
        "print('average number of labels per image {}'.format(1.0*len(all_tags)/train_df.shape[0]))"
      ],
      "metadata": {
        "execution": {
          "iopub.status.busy": "2024-09-27T09:15:14.046544Z",
          "iopub.execute_input": "2024-09-27T09:15:14.04683Z",
          "iopub.status.idle": "2024-09-27T09:15:14.094308Z",
          "shell.execute_reply.started": "2024-09-27T09:15:14.046806Z",
          "shell.execute_reply": "2024-09-27T09:15:14.093481Z"
        },
        "trusted": true,
        "id": "sWaf4SWH2nH4"
      },
      "execution_count": null,
      "outputs": []
    },
    {
      "cell_type": "code",
      "source": [
        "tags_counted_and_sorted = pd.DataFrame({'tag': all_tags}).groupby('tag').size().reset_index().sort_values(0, ascending=False)\n",
        "tags_counted_and_sorted.head()"
      ],
      "metadata": {
        "execution": {
          "iopub.status.busy": "2024-09-27T09:15:14.095289Z",
          "iopub.execute_input": "2024-09-27T09:15:14.095565Z",
          "iopub.status.idle": "2024-09-27T09:15:14.129576Z",
          "shell.execute_reply.started": "2024-09-27T09:15:14.095542Z",
          "shell.execute_reply": "2024-09-27T09:15:14.128664Z"
        },
        "trusted": true,
        "id": "3C7aK-Kl2nH4"
      },
      "execution_count": null,
      "outputs": []
    },
    {
      "cell_type": "markdown",
      "source": [
        "There are only a few tags, that occur very often in the data: primary, clear, agriculture, road and water\n"
      ],
      "metadata": {
        "id": "qcZKpQUv2nH4"
      }
    },
    {
      "cell_type": "markdown",
      "source": [
        "## Now we are doing a submission without looking at the image just on the basis of the distribution of the counts"
      ],
      "metadata": {
        "id": "xL91-s8i2nH4"
      }
    },
    {
      "cell_type": "code",
      "source": [
        "sample = pd.read_csv('/kaggle/input/planets-dataset/planet/planet/sample_submission.csv')\n",
        "print(sample.shape)\n",
        "sample.head()"
      ],
      "metadata": {
        "execution": {
          "iopub.status.busy": "2024-09-27T10:24:47.804638Z",
          "iopub.execute_input": "2024-09-27T10:24:47.80557Z",
          "iopub.status.idle": "2024-09-27T10:24:47.871372Z",
          "shell.execute_reply.started": "2024-09-27T10:24:47.805526Z",
          "shell.execute_reply": "2024-09-27T10:24:47.870375Z"
        },
        "trusted": true,
        "id": "8NF1jW4U2nH4"
      },
      "execution_count": null,
      "outputs": []
    },
    {
      "cell_type": "code",
      "source": [
        "tag_probas = tags_counted_and_sorted[0].values/tags_counted_and_sorted[0].values.sum()\n",
        "indicators = np.hstack([bernoulli.rvs(p, 0, sample.shape[0]).reshape(sample.shape[0], 1) for p in tag_probas])\n",
        "indicators = np.array(indicators)\n",
        "indicators.shape"
      ],
      "metadata": {
        "execution": {
          "iopub.status.busy": "2024-09-27T10:24:51.620344Z",
          "iopub.execute_input": "2024-09-27T10:24:51.620698Z",
          "iopub.status.idle": "2024-09-27T10:24:51.666491Z",
          "shell.execute_reply.started": "2024-09-27T10:24:51.620666Z",
          "shell.execute_reply": "2024-09-27T10:24:51.665473Z"
        },
        "trusted": true,
        "id": "x2W785_i2nH4"
      },
      "execution_count": null,
      "outputs": []
    },
    {
      "cell_type": "code",
      "source": [
        "indicators[:10,:]"
      ],
      "metadata": {
        "execution": {
          "iopub.status.busy": "2024-09-27T10:24:53.468586Z",
          "iopub.execute_input": "2024-09-27T10:24:53.46948Z",
          "iopub.status.idle": "2024-09-27T10:24:53.478571Z",
          "shell.execute_reply.started": "2024-09-27T10:24:53.469436Z",
          "shell.execute_reply": "2024-09-27T10:24:53.477407Z"
        },
        "trusted": true,
        "id": "AcC_8poY2nH5"
      },
      "execution_count": null,
      "outputs": []
    },
    {
      "cell_type": "code",
      "source": [
        "sorted_tags = tags_counted_and_sorted['tag'].values\n",
        "all_test_tags = []\n",
        "for index in range(indicators.shape[0]):\n",
        "    all_test_tags.append(' '.join(list(sorted_tags[np.where(indicators[index, :] == 1)[0]])))\n",
        "len(all_test_tags)"
      ],
      "metadata": {
        "execution": {
          "iopub.status.busy": "2024-09-27T10:24:54.64211Z",
          "iopub.execute_input": "2024-09-27T10:24:54.643092Z",
          "iopub.status.idle": "2024-09-27T10:24:55.059231Z",
          "shell.execute_reply.started": "2024-09-27T10:24:54.643048Z",
          "shell.execute_reply": "2024-09-27T10:24:55.058158Z"
        },
        "trusted": true,
        "id": "XmxSA3e72nH5"
      },
      "execution_count": null,
      "outputs": []
    },
    {
      "cell_type": "code",
      "source": [
        "sample['tags'] = all_test_tags\n",
        "print(sample.head())\n",
        "sample.to_csv('bernoulli_submission.csv', index=False)"
      ],
      "metadata": {
        "execution": {
          "iopub.status.busy": "2024-09-27T10:25:16.482871Z",
          "iopub.execute_input": "2024-09-27T10:25:16.483377Z",
          "iopub.status.idle": "2024-09-27T10:25:16.757852Z",
          "shell.execute_reply.started": "2024-09-27T10:25:16.483338Z",
          "shell.execute_reply": "2024-09-27T10:25:16.756814Z"
        },
        "trusted": true,
        "id": "CGK7okRo2nH5"
      },
      "execution_count": null,
      "outputs": []
    },
    {
      "cell_type": "markdown",
      "source": [
        "# Training"
      ],
      "metadata": {
        "id": "BkRlK3CH2nH5"
      }
    },
    {
      "cell_type": "code",
      "source": [
        "# f2macro = FBetaMulti(beta=2,average='macro')\n",
        "# f2micro = FBetaMulti(beta=2,average='micro')\n",
        "f2samples = FBetaMulti(beta=2,average='samples',thresh=0.2)\n",
        "\n",
        "# model = EfficientNet.from_pretrained('efficientnet-b7', get_c(dls))\n",
        "metrics = [partial(accuracy_multi, thresh=0.2), f2samples]\n",
        "cbs = [MixUp]"
      ],
      "metadata": {
        "execution": {
          "iopub.status.busy": "2024-09-27T09:15:14.130639Z",
          "iopub.execute_input": "2024-09-27T09:15:14.130932Z",
          "iopub.status.idle": "2024-09-27T09:15:14.135804Z",
          "shell.execute_reply.started": "2024-09-27T09:15:14.130908Z",
          "shell.execute_reply": "2024-09-27T09:15:14.13492Z"
        },
        "trusted": true,
        "id": "h5Tq5Y3_2nH5"
      },
      "execution_count": null,
      "outputs": []
    },
    {
      "cell_type": "code",
      "source": [
        "# learn = cnn_learner(dls, resnet50, metrics=metrics, cbs=cbs)\n",
        "# learn = Learner(dls, model, metrics=metrics, f2samples], cbs=cbs)\n",
        "# learn = Learner(dls, model, metrics=metrics, loss_func=LabelSmoothingCrossEntropy(), cbs=cbs)\n",
        "\n",
        "learn = timm_learner(dls, 'efficientnet_b3', metrics=metrics, cbs=cbs)\n",
        "\n",
        "# learn.lr_find()"
      ],
      "metadata": {
        "execution": {
          "iopub.status.busy": "2024-09-27T09:15:14.137001Z",
          "iopub.execute_input": "2024-09-27T09:15:14.137291Z",
          "iopub.status.idle": "2024-09-27T09:15:16.766085Z",
          "shell.execute_reply.started": "2024-09-27T09:15:14.137268Z",
          "shell.execute_reply": "2024-09-27T09:15:16.765289Z"
        },
        "trusted": true,
        "id": "qqUq93JX2nH5"
      },
      "execution_count": null,
      "outputs": []
    },
    {
      "cell_type": "code",
      "source": [
        "learn.fine_tune(5, base_lr=3e-2, freeze_epochs=2)"
      ],
      "metadata": {
        "execution": {
          "iopub.status.busy": "2024-09-27T09:15:16.767192Z",
          "iopub.execute_input": "2024-09-27T09:15:16.767483Z",
          "iopub.status.idle": "2024-09-27T10:04:12.480694Z",
          "shell.execute_reply.started": "2024-09-27T09:15:16.767458Z",
          "shell.execute_reply": "2024-09-27T10:04:12.47959Z"
        },
        "trusted": true,
        "id": "tTh-CpBR2nH5"
      },
      "execution_count": null,
      "outputs": []
    },
    {
      "cell_type": "markdown",
      "source": [
        "# Submission using TTA"
      ],
      "metadata": {
        "id": "X8Bja96M2nH6"
      }
    },
    {
      "cell_type": "code",
      "source": [
        "file_path = Path('../input/planets-dataset/test-jpg-additional/test-jpg-additional')\n",
        "test_path = Path('../input/planets-dataset/planet/planet/test-jpg')\n",
        "submission_df = pd.read_csv(path/'sample_submission.csv')\n",
        "testing_path = (submission_df['image_name'] + '.jpg').apply(lambda x: test_path/x if x.startswith('test') else file_path/x)\n",
        "\n",
        "def prediction(filename='submission.csv', tta=False):\n",
        "    tst_dl = learn.dls.test_dl(testing_path)\n",
        "    if tta:\n",
        "        predictions = learn.tta(dl = tst_dl)\n",
        "    else:\n",
        "        predictions = learn.get_preds(dl = tst_dl)\n",
        "    predlist = [' '.join(learn.dls.vocab[i]) for i in (predictions[0] > 0.2)]\n",
        "\n",
        "    df = submission_df\n",
        "    df['tags'] = predlist\n",
        "\n",
        "    df.to_csv(filename, index=False)\n",
        "    return df"
      ],
      "metadata": {
        "execution": {
          "iopub.status.busy": "2024-09-27T10:04:12.482264Z",
          "iopub.execute_input": "2024-09-27T10:04:12.482658Z",
          "iopub.status.idle": "2024-09-27T10:04:13.213725Z",
          "shell.execute_reply.started": "2024-09-27T10:04:12.482631Z",
          "shell.execute_reply": "2024-09-27T10:04:13.212743Z"
        },
        "trusted": true,
        "id": "WziKjjXv2nH6"
      },
      "execution_count": null,
      "outputs": []
    },
    {
      "cell_type": "code",
      "source": [
        "prediction('submission_tta.csv', tta=True)"
      ],
      "metadata": {
        "execution": {
          "iopub.status.busy": "2024-09-27T10:04:13.215181Z",
          "iopub.execute_input": "2024-09-27T10:04:13.21557Z",
          "iopub.status.idle": "2024-09-27T10:21:48.323917Z",
          "shell.execute_reply.started": "2024-09-27T10:04:13.215536Z",
          "shell.execute_reply": "2024-09-27T10:21:48.322808Z"
        },
        "trusted": true,
        "id": "0RLlDur62nH6"
      },
      "execution_count": null,
      "outputs": []
    }
  ]
}